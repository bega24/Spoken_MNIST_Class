{
 "cells": [
  {
   "cell_type": "markdown",
   "metadata": {},
   "source": [
    "#\n",
    "# <p style=\"text-align: center;\">Lab 4 - Classification avec le dataset MNIST Spoken</p>"
   ]
  },
  {
   "cell_type": "markdown",
   "metadata": {},
   "source": [
    "Dans ce laboratoire nous allons utiliser un réseau de neurones pour classifier les signaux audios des chiffres 0 à 9 prononcés par des humains. Pour ce faire, nous allons utiliser plusieurs types de données différents pour notre réseau de neurones.\n",
    "\n",
    "Tout d'abord nous testerons avec les signaux, puis avec le coefficients MFCC, et enfin nous utiliserons les Spectrogrammes. Nous analyserons les résultats pour les différentes approches utilisées.\n",
    "\n",
    "Concernant la méthodologie nous utiliserons le dataset \"spoken_mnist\" composée de 3000 données. Nous utiliserons 20% du dataset pour le test et 80% pour l'entrainement. Nous utiliserons un réseau fully-connected implémenté avec Pytorch ainsi que la fonction de perte d'entropie croisée. Nous utiliserons également 3 réseaux de neurones à une couche cachée avec chacun une couche d'entrée correspondant au types de données utilisées.\n",
    " "
   ]
  },
  {
   "cell_type": "markdown",
   "metadata": {},
   "source": [
    "#### Importation des bibliothèques nécessaire "
   ]
  },
  {
   "cell_type": "code",
   "execution_count": 2,
   "metadata": {},
   "outputs": [],
   "source": [
    "import numpy as np\n",
    "import torchvision\n",
    "from torchvision.datasets import MNIST\n",
    "from torchvision import datasets, transforms\n",
    "import torch\n",
    "import torch.nn as nn\n",
    "import matplotlib.pyplot as plt\n",
    "from torch.utils.data import Dataset\n",
    "from torch.utils.data import DataLoader\n",
    "import random\n",
    "import copy\n",
    "import hub\n",
    "import librosa\n"
   ]
  },
  {
   "cell_type": "markdown",
   "metadata": {},
   "source": [
    "## Création du dataset"
   ]
  },
  {
   "cell_type": "markdown",
   "metadata": {},
   "source": [
    "### Récupération de la base de données Spoken_MNIST"
   ]
  },
  {
   "cell_type": "code",
   "execution_count": 3,
   "metadata": {},
   "outputs": [
    {
     "name": "stderr",
     "output_type": "stream",
     "text": []
    },
    {
     "name": "stdout",
     "output_type": "stream",
     "text": [
      "Opening dataset in read-only mode as you don't have write permissions.\n"
     ]
    },
    {
     "name": "stderr",
     "output_type": "stream",
     "text": [
      "\\"
     ]
    },
    {
     "name": "stdout",
     "output_type": "stream",
     "text": [
      "This dataset can be visualized in Jupyter Notebook by ds.visualize() or at https://app.activeloop.ai/activeloop/spoken_mnist\n",
      "\n"
     ]
    },
    {
     "name": "stderr",
     "output_type": "stream",
     "text": [
      "|"
     ]
    },
    {
     "name": "stdout",
     "output_type": "stream",
     "text": [
      "hub://activeloop/spoken_mnist loaded successfully.\n",
      "\n"
     ]
    },
    {
     "name": "stderr",
     "output_type": "stream",
     "text": [
      " "
     ]
    },
    {
     "data": {
      "image/png": "[encoded data removed]",
      "text/plain": [
       "<Figure size 640x480 with 1 Axes>"
      ]
     },
     "metadata": {},
     "output_type": "display_data"
    }
   ],
   "source": [
    "ds = hub.load(\"hub://activeloop/spoken_mnist\")\n",
    "\n",
    "# check out the first spectrogram, it's label, and who spoke it!\n",
    "plt.imshow(ds.spectrograms[0].numpy())\n",
    "plt.title(f\"{ds.speakers[0].data()}_{ds.labels[0].numpy()}\")\n",
    "plt.show()\n"
   ]
  },
  {
   "cell_type": "markdown",
   "metadata": {},
   "source": [
    "### Prétraitement des données\n",
    "\n",
    "#### Utilisation des fichiers audios\n",
    "\n",
    "Les fichiers audios ne sont pas tous de la même longueur. La moyenne de taille de nos fichiers audio est environ de 3500 nous allons donc mettre tous nos vecteur audios à une longueur de 3500 en prenant les 3500 premières valeurs pour les fichiers audios dont la longueur est supérieur et en complétant le tableau avec des zéros quand la longueur est inférieur à 3500.\n",
    "\n",
    "Ainsi nous obtenons 3000 vecteurs audios de 3500 éléments. "
   ]
  },
  {
   "cell_type": "code",
   "execution_count": 7,
   "metadata": {},
   "outputs": [
    {
     "name": "stdout",
     "output_type": "stream",
     "text": [
      "Itération 3000/3000"
     ]
    }
   ],
   "source": [
    "#l'éxécution de cette cellule peut prendre environ 2-3 min\n",
    "duree_audio = 3500 #longueur choisie pour chaque vecteur audio\n",
    "audio_data = []\n",
    "for i, sample in enumerate(ds):\n",
    "    a = (ds.audio[i][:duree_audio].numpy())\n",
    "    current_audio = np.concatenate(a, axis=0)\n",
    "    audio_data.append(current_audio)\n",
    "    print(f\"\\rItération {i+1}/{3000}\", end=\"\", flush=True)\n",
    "    "
   ]
  },
  {
   "cell_type": "code",
   "execution_count": 8,
   "metadata": {},
   "outputs": [],
   "source": [
    "#ajout de zéros pour remplir chaque vecteurs à la longueur choisie \n",
    "for i, sample in enumerate(ds):\n",
    "    if len(audio_data[i]) < duree_audio:\n",
    "        audio_data[i] = np.pad(audio_data[i], (0, duree_audio-len(audio_data[i])), mode='constant', constant_values=0)"
   ]
  },
  {
   "cell_type": "markdown",
   "metadata": {},
   "source": [
    "#### Utilisation des MFCC"
   ]
  },
  {
   "cell_type": "markdown",
   "metadata": {},
   "source": [
    "Pour cette approche on calcul les MFCC de chaque audio. On choisi le nombre de 20 coefficient puis on fait la moyenne pour chaque audio. On se retrouve ainsi avec un vecteur de 20 coefficients pour chaque audio. On ajoute chaque vecteur de moyenne de coefficient au tenseur mfcc_data."
   ]
  },
  {
   "cell_type": "code",
   "execution_count": 9,
   "metadata": {},
   "outputs": [
    {
     "name": "stdout",
     "output_type": "stream",
     "text": [
      "Itération 3000/3000"
     ]
    }
   ],
   "source": [
    "mfcc_data = []\n",
    "j = 0\n",
    "for j, sample in enumerate(ds):\n",
    "    signal = audio_data[j]\n",
    "    mfccs = np.mean(librosa.feature.mfcc(y=signal, sr=44100, n_mfcc=20).T, axis=0)\n",
    "    mfcc_data.append(mfccs)\n",
    "    print(f\"\\rItération {j+1}/{3000}\", end=\"\", flush=True)\n",
    "   "
   ]
  },
  {
   "cell_type": "markdown",
   "metadata": {},
   "source": [
    "#### Utilisation des spectrogramme\n",
    "\n",
    "On extrait chaque spectrogramme de notre ensemble de donnée. Ils sont sous la forme d'un tenseur de taille 64x64x4"
   ]
  },
  {
   "cell_type": "code",
   "execution_count": 14,
   "metadata": {},
   "outputs": [
    {
     "name": "stdout",
     "output_type": "stream",
     "text": [
      "Itération 3000/3000"
     ]
    }
   ],
   "source": [
    "spect_data = []\n",
    "for h, sample in enumerate(ds):\n",
    "    spect_data.append(ds.spectrograms[h].numpy())\n",
    "    print(f\"\\rItération {h+1}/{3000}\", end=\"\", flush=True)"
   ]
  },
  {
   "cell_type": "markdown",
   "metadata": {},
   "source": [
    "### Finalisation de la création des datasets"
   ]
  },
  {
   "cell_type": "markdown",
   "metadata": {},
   "source": [
    "Dans cette parties nous allons extraire les labels les ajouter dans nos 3 datasets : audio_data, mfcc_data, spect_data"
   ]
  },
  {
   "cell_type": "markdown",
   "metadata": {},
   "source": [
    "On extrait les labels de notre ensemble de données et on les mets dans un tenseur"
   ]
  },
  {
   "cell_type": "code",
   "execution_count": 15,
   "metadata": {},
   "outputs": [],
   "source": [
    "label_data = []\n",
    "for j, sample in enumerate(ds):\n",
    "    label_data.append(float(ds.labels[j].numpy()[0]))"
   ]
  },
  {
   "cell_type": "markdown",
   "metadata": {},
   "source": [
    "On créer nos 3 ensembles de données où chaque vecteur audio, mfcc ou spectrogramme  est associé au label correspondant"
   ]
  },
  {
   "cell_type": "code",
   "execution_count": 16,
   "metadata": {},
   "outputs": [],
   "source": [
    "audio_dataset = list(zip(audio_data, label_data))\n",
    "mfcc_dataset = list(zip(mfcc_data, label_data))\n",
    "spect_dataset = list(zip(spect_data, label_data))"
   ]
  },
  {
   "cell_type": "markdown",
   "metadata": {},
   "source": [
    "On va à présent mélanger les datasets afin d'extraire des ensembles de test et d'entrainement qui sont représentatifs de toutes nos classes"
   ]
  },
  {
   "cell_type": "code",
   "execution_count": 17,
   "metadata": {},
   "outputs": [],
   "source": [
    "def shuffleDataset(datasets):\n",
    "    \n",
    "    \n",
    "    indices = list(range(len(datasets)))\n",
    "\n",
    "    \n",
    "    random.shuffle(indices)\n",
    "\n",
    "    dataset_shuffle = []\n",
    "\n",
    "    for idx in indices:\n",
    "        images, label = datasets[idx]\n",
    "        dataset_shuffle.append(datasets[idx])\n",
    "    \n",
    "    return dataset_shuffle"
   ]
  },
  {
   "cell_type": "code",
   "execution_count": 18,
   "metadata": {},
   "outputs": [],
   "source": [
    "#mélange des 3 datasets\n",
    "dataset_shuffle_audio = shuffleDataset(audio_dataset)\n",
    "dataset_shuffle_mfcc = shuffleDataset(mfcc_dataset)\n",
    "dataset_shuffle_spect = shuffleDataset(spect_dataset)\n",
    "\n",
    "#datasets entrainements et tests audios\n",
    "dataset_train_audio = dataset_shuffle_audio[:2400]\n",
    "dataset_test_audio = dataset_shuffle_audio[2400:]\n",
    "\n",
    "#datasets entrainements et tests mfcc\n",
    "dataset_train_mfcc = dataset_shuffle_mfcc[:2400]\n",
    "dataset_test_mfcc = dataset_shuffle_mfcc[2400:]\n",
    "\n",
    "#datasets entrainements et tests spectrogrammes\n",
    "dataset_train_spect = dataset_shuffle_spect[:2400]\n",
    "dataset_test_spect = dataset_shuffle_spect[2400:]"
   ]
  },
  {
   "cell_type": "markdown",
   "metadata": {},
   "source": [
    "On charge nos 6 datasets avec dataloader"
   ]
  },
  {
   "cell_type": "code",
   "execution_count": 19,
   "metadata": {},
   "outputs": [],
   "source": [
    "#audio\n",
    "dataloader_train_audio = torch.utils.data.DataLoader(dataset_train_audio, batch_size=25, shuffle=True)\n",
    "dataloader_test_audio = torch.utils.data.DataLoader(dataset_test_audio, batch_size=1, shuffle=True)\n",
    "\n",
    "#mfcc\n",
    "dataloader_train_mfcc = torch.utils.data.DataLoader(dataset_train_mfcc, batch_size=25, shuffle=True)\n",
    "dataloader_test_mfcc = torch.utils.data.DataLoader(dataset_test_mfcc, batch_size=1, shuffle=True)\n",
    "\n",
    "#spectrogramme\n",
    "dataloader_train_spect = torch.utils.data.DataLoader(dataset_train_spect, batch_size=25, shuffle=True)\n",
    "dataloader_test_spect = torch.utils.data.DataLoader(dataset_test_spect, batch_size=1, shuffle=True)"
   ]
  },
  {
   "cell_type": "markdown",
   "metadata": {},
   "source": [
    "## Entrainement du réseau"
   ]
  },
  {
   "cell_type": "markdown",
   "metadata": {},
   "source": [
    "On choisit le GPU pour entrainer notre réseau pour avoir une meilleure puissance de calcul"
   ]
  },
  {
   "cell_type": "code",
   "execution_count": 22,
   "metadata": {},
   "outputs": [],
   "source": [
    "#choix du GPU si il est disponible\n",
    "device = torch.device('cuda' if torch.cuda.is_available() else 'cpu')"
   ]
  },
  {
   "cell_type": "markdown",
   "metadata": {},
   "source": [
    "### Création des 3 réseaux de neurones"
   ]
  },
  {
   "cell_type": "markdown",
   "metadata": {},
   "source": [
    "### Paramètres des réseaux\n",
    "\n",
    "On définit les paramètres communs de nos 3 réseaux de neurones"
   ]
  },
  {
   "cell_type": "code",
   "execution_count": 23,
   "metadata": {},
   "outputs": [],
   "source": [
    "#hyper-paramètre du réseau \n",
    "num_epochs = 50\n",
    "learning_rate = 0.0001\n",
    "\n",
    "#loss utilisé\n",
    "criterion = nn.functional.cross_entropy"
   ]
  },
  {
   "cell_type": "markdown",
   "metadata": {},
   "source": [
    "On créer une fonction qui nous permets de créer un réseau qui prend en entrée un vecteur avec la taille de notre choix. Cela nous permettra de facilement adapter notre réseau pour chaque type de données"
   ]
  },
  {
   "cell_type": "code",
   "execution_count": 24,
   "metadata": {},
   "outputs": [],
   "source": [
    "def creation_nn(input_size):\n",
    "    class SimpleNN(nn.Module):\n",
    "        def __init__(self):\n",
    "            super(SimpleNN, self).__init__()\n",
    "            self.fc1 = nn.Linear(input_size, 1000)\n",
    "            self.fc2 = nn.Linear(1000, 500)\n",
    "            self.fc3 = nn.Linear(500, 10)\n",
    "    \n",
    "        def forward(self, x):\n",
    "            x = torch.relu(self.fc1(x))\n",
    "            x = torch.relu(self.fc2(x))\n",
    "            x = self.fc3(x)\n",
    "            return x\n",
    "        \n",
    "    model = SimpleNN().to(device)\n",
    "    optimizer = torch.optim.Adam(model.parameters(), lr=learning_rate) \n",
    "\n",
    "    return model, optimizer\n",
    "    "
   ]
  },
  {
   "cell_type": "markdown",
   "metadata": {},
   "source": [
    "Ci-dessous on implémente 3 réseaux, un pour chaque approche car ils n'ont pas la même couche d'entrée "
   ]
  },
  {
   "cell_type": "code",
   "execution_count": 25,
   "metadata": {},
   "outputs": [],
   "source": [
    "input_size_audio = 3500\n",
    "input_size_mfcc = 20\n",
    "input_size_spect = 64*64*4"
   ]
  },
  {
   "cell_type": "code",
   "execution_count": 26,
   "metadata": {},
   "outputs": [],
   "source": [
    "model_audio, optimizer_audio = creation_nn(input_size_audio)\n",
    "model_mfcc, optimizer_mfcc = creation_nn(input_size_mfcc)\n",
    "model_spect, optimizer_spect = creation_nn(input_size_spect)"
   ]
  },
  {
   "cell_type": "markdown",
   "metadata": {},
   "source": [
    "### Boucles d'entrainements "
   ]
  },
  {
   "cell_type": "markdown",
   "metadata": {},
   "source": [
    "#### Création de la boucle d'entrainement\n",
    "\n",
    "On créer une fonction qui nous permet d'entrainer nos réseaux avec chaque types de données choisis"
   ]
  },
  {
   "cell_type": "code",
   "execution_count": 27,
   "metadata": {},
   "outputs": [],
   "source": [
    "def entrainement(dataset, input_size, model, optimizer):\n",
    "    #entrainement du model\n",
    "    n_total_steps = len(dataset)\n",
    "    loss_value = [] \n",
    "    iteration = []\n",
    "    for epoch in range(num_epochs):\n",
    "        for i, (images, labels) in enumerate(dataset):  \n",
    "            images = images.float()\n",
    "            images = images.reshape(-1, input_size).to(device)\n",
    "            labels = labels.to(device)\n",
    "        \n",
    "            #propagation avant\n",
    "            outputs = model(images)\n",
    "            labels = labels.squeeze()\n",
    "            labels = labels.long()\n",
    "            loss = criterion(outputs, labels)\n",
    "        \n",
    "            #rétropopagation et optimisation\n",
    "            optimizer.zero_grad()\n",
    "            loss.backward()\n",
    "            optimizer.step()\n",
    "        \n",
    "            if (i+1) % 96 == 0:\n",
    "                print (f'Epoch [{epoch+1}/{num_epochs}], Step [{i+1}/{n_total_steps}], Loss: {loss.item():.4f}')\n",
    "                loss_value.append(loss.item())\n",
    "                iteration.append(((epoch+1)*n_total_steps)-n_total_steps+i+1)"
   ]
  },
  {
   "cell_type": "markdown",
   "metadata": {},
   "source": [
    "Entrainement avec données audios"
   ]
  },
  {
   "cell_type": "code",
   "execution_count": 28,
   "metadata": {},
   "outputs": [
    {
     "name": "stdout",
     "output_type": "stream",
     "text": [
      "Epoch [1/50], Step [96/96], Loss: 167.0843\n",
      "Epoch [2/50], Step [96/96], Loss: 10.5887\n",
      "Epoch [3/50], Step [96/96], Loss: 4.6661\n",
      "Epoch [4/50], Step [96/96], Loss: 0.0190\n",
      "Epoch [5/50], Step [96/96], Loss: 0.0090\n",
      "Epoch [6/50], Step [96/96], Loss: 0.0013\n",
      "Epoch [7/50], Step [96/96], Loss: 0.0561\n",
      "Epoch [8/50], Step [96/96], Loss: 0.0865\n",
      "Epoch [9/50], Step [96/96], Loss: 0.8806\n",
      "Epoch [10/50], Step [96/96], Loss: 0.0671\n",
      "Epoch [11/50], Step [96/96], Loss: 0.1063\n",
      "Epoch [12/50], Step [96/96], Loss: 1.4182\n",
      "Epoch [13/50], Step [96/96], Loss: 10.2565\n",
      "Epoch [14/50], Step [96/96], Loss: 1.9492\n",
      "Epoch [15/50], Step [96/96], Loss: 4.1701\n",
      "Epoch [16/50], Step [96/96], Loss: 3.0910\n",
      "Epoch [17/50], Step [96/96], Loss: 0.4367\n",
      "Epoch [18/50], Step [96/96], Loss: 0.0022\n",
      "Epoch [19/50], Step [96/96], Loss: 0.0008\n",
      "Epoch [20/50], Step [96/96], Loss: 0.0035\n",
      "Epoch [21/50], Step [96/96], Loss: 0.0014\n",
      "Epoch [22/50], Step [96/96], Loss: 0.0001\n",
      "Epoch [23/50], Step [96/96], Loss: 0.0105\n",
      "Epoch [24/50], Step [96/96], Loss: 0.0529\n",
      "Epoch [25/50], Step [96/96], Loss: 0.0001\n",
      "Epoch [26/50], Step [96/96], Loss: 0.0007\n",
      "Epoch [27/50], Step [96/96], Loss: 0.0003\n",
      "Epoch [28/50], Step [96/96], Loss: 0.0000\n",
      "Epoch [29/50], Step [96/96], Loss: 1.0811\n",
      "Epoch [30/50], Step [96/96], Loss: 1.2827\n",
      "Epoch [31/50], Step [96/96], Loss: 16.9654\n",
      "Epoch [32/50], Step [96/96], Loss: 8.5182\n",
      "Epoch [33/50], Step [96/96], Loss: 1.6858\n",
      "Epoch [34/50], Step [96/96], Loss: 0.1916\n",
      "Epoch [35/50], Step [96/96], Loss: 4.7504\n",
      "Epoch [36/50], Step [96/96], Loss: 2.6479\n",
      "Epoch [37/50], Step [96/96], Loss: 22.3590\n",
      "Epoch [38/50], Step [96/96], Loss: 0.3697\n",
      "Epoch [39/50], Step [96/96], Loss: 0.0404\n",
      "Epoch [40/50], Step [96/96], Loss: 0.0751\n",
      "Epoch [41/50], Step [96/96], Loss: 1.2874\n",
      "Epoch [42/50], Step [96/96], Loss: 0.0002\n",
      "Epoch [43/50], Step [96/96], Loss: 0.1868\n",
      "Epoch [44/50], Step [96/96], Loss: 0.0011\n",
      "Epoch [45/50], Step [96/96], Loss: 0.0010\n",
      "Epoch [46/50], Step [96/96], Loss: 0.0002\n",
      "Epoch [47/50], Step [96/96], Loss: 0.0005\n",
      "Epoch [48/50], Step [96/96], Loss: 0.0000\n",
      "Epoch [49/50], Step [96/96], Loss: 0.0002\n",
      "Epoch [50/50], Step [96/96], Loss: 0.0001\n"
     ]
    }
   ],
   "source": [
    "entrainement(dataloader_train_audio, input_size_audio, model_audio, optimizer_audio)"
   ]
  },
  {
   "cell_type": "markdown",
   "metadata": {},
   "source": [
    "Entrainement avec données mfcc"
   ]
  },
  {
   "cell_type": "code",
   "execution_count": 29,
   "metadata": {},
   "outputs": [
    {
     "name": "stdout",
     "output_type": "stream",
     "text": [
      "Epoch [1/50], Step [96/96], Loss: 1.4293\n",
      "Epoch [2/50], Step [96/96], Loss: 1.6098\n",
      "Epoch [3/50], Step [96/96], Loss: 1.2785\n",
      "Epoch [4/50], Step [96/96], Loss: 0.6334\n",
      "Epoch [5/50], Step [96/96], Loss: 0.7100\n",
      "Epoch [6/50], Step [96/96], Loss: 0.9965\n",
      "Epoch [7/50], Step [96/96], Loss: 0.9923\n",
      "Epoch [8/50], Step [96/96], Loss: 0.6913\n",
      "Epoch [9/50], Step [96/96], Loss: 0.4752\n",
      "Epoch [10/50], Step [96/96], Loss: 0.6693\n",
      "Epoch [11/50], Step [96/96], Loss: 0.2428\n",
      "Epoch [12/50], Step [96/96], Loss: 0.4259\n",
      "Epoch [13/50], Step [96/96], Loss: 0.8531\n",
      "Epoch [14/50], Step [96/96], Loss: 0.5511\n",
      "Epoch [15/50], Step [96/96], Loss: 0.6605\n",
      "Epoch [16/50], Step [96/96], Loss: 0.5988\n",
      "Epoch [17/50], Step [96/96], Loss: 0.4076\n",
      "Epoch [18/50], Step [96/96], Loss: 0.3253\n",
      "Epoch [19/50], Step [96/96], Loss: 0.2579\n",
      "Epoch [20/50], Step [96/96], Loss: 0.5281\n",
      "Epoch [21/50], Step [96/96], Loss: 0.2390\n",
      "Epoch [22/50], Step [96/96], Loss: 1.1968\n",
      "Epoch [23/50], Step [96/96], Loss: 0.2084\n",
      "Epoch [24/50], Step [96/96], Loss: 0.2530\n",
      "Epoch [25/50], Step [96/96], Loss: 0.5386\n",
      "Epoch [26/50], Step [96/96], Loss: 0.1862\n",
      "Epoch [27/50], Step [96/96], Loss: 0.5611\n",
      "Epoch [28/50], Step [96/96], Loss: 1.1335\n",
      "Epoch [29/50], Step [96/96], Loss: 0.8422\n",
      "Epoch [30/50], Step [96/96], Loss: 0.3937\n",
      "Epoch [31/50], Step [96/96], Loss: 0.1265\n",
      "Epoch [32/50], Step [96/96], Loss: 0.1692\n",
      "Epoch [33/50], Step [96/96], Loss: 0.3521\n",
      "Epoch [34/50], Step [96/96], Loss: 0.1515\n",
      "Epoch [35/50], Step [96/96], Loss: 0.2135\n",
      "Epoch [36/50], Step [96/96], Loss: 0.1490\n",
      "Epoch [37/50], Step [96/96], Loss: 0.5804\n",
      "Epoch [38/50], Step [96/96], Loss: 0.4292\n",
      "Epoch [39/50], Step [96/96], Loss: 0.3503\n",
      "Epoch [40/50], Step [96/96], Loss: 0.1433\n",
      "Epoch [41/50], Step [96/96], Loss: 0.5328\n",
      "Epoch [42/50], Step [96/96], Loss: 0.2718\n",
      "Epoch [43/50], Step [96/96], Loss: 0.3640\n",
      "Epoch [44/50], Step [96/96], Loss: 0.3012\n",
      "Epoch [45/50], Step [96/96], Loss: 0.2635\n",
      "Epoch [46/50], Step [96/96], Loss: 0.1758\n",
      "Epoch [47/50], Step [96/96], Loss: 0.3295\n",
      "Epoch [48/50], Step [96/96], Loss: 0.1769\n",
      "Epoch [49/50], Step [96/96], Loss: 0.1172\n",
      "Epoch [50/50], Step [96/96], Loss: 0.0460\n"
     ]
    }
   ],
   "source": [
    "entrainement(dataloader_train_mfcc, input_size_mfcc, model_mfcc, optimizer_mfcc)"
   ]
  },
  {
   "cell_type": "markdown",
   "metadata": {},
   "source": [
    "Entrainement avec données spectrogrammes"
   ]
  },
  {
   "cell_type": "code",
   "execution_count": 30,
   "metadata": {},
   "outputs": [
    {
     "name": "stdout",
     "output_type": "stream",
     "text": [
      "Epoch [1/50], Step [96/96], Loss: 4.6451\n",
      "Epoch [2/50], Step [96/96], Loss: 2.5878\n",
      "Epoch [3/50], Step [96/96], Loss: 0.8375\n",
      "Epoch [4/50], Step [96/96], Loss: 1.9509\n",
      "Epoch [5/50], Step [96/96], Loss: 1.8686\n",
      "Epoch [6/50], Step [96/96], Loss: 1.3487\n",
      "Epoch [7/50], Step [96/96], Loss: 1.7216\n",
      "Epoch [8/50], Step [96/96], Loss: 1.2764\n",
      "Epoch [9/50], Step [96/96], Loss: 0.5114\n",
      "Epoch [10/50], Step [96/96], Loss: 0.7608\n",
      "Epoch [11/50], Step [96/96], Loss: 0.7577\n",
      "Epoch [12/50], Step [96/96], Loss: 0.4584\n",
      "Epoch [13/50], Step [96/96], Loss: 0.8152\n",
      "Epoch [14/50], Step [96/96], Loss: 0.0803\n",
      "Epoch [15/50], Step [96/96], Loss: 0.1133\n",
      "Epoch [16/50], Step [96/96], Loss: 0.7850\n",
      "Epoch [17/50], Step [96/96], Loss: 1.8574\n",
      "Epoch [18/50], Step [96/96], Loss: 1.1781\n",
      "Epoch [19/50], Step [96/96], Loss: 0.8383\n",
      "Epoch [20/50], Step [96/96], Loss: 0.1288\n",
      "Epoch [21/50], Step [96/96], Loss: 0.8130\n",
      "Epoch [22/50], Step [96/96], Loss: 0.2895\n",
      "Epoch [23/50], Step [96/96], Loss: 1.5471\n",
      "Epoch [24/50], Step [96/96], Loss: 0.0286\n",
      "Epoch [25/50], Step [96/96], Loss: 0.3811\n",
      "Epoch [26/50], Step [96/96], Loss: 0.4344\n",
      "Epoch [27/50], Step [96/96], Loss: 0.5347\n",
      "Epoch [28/50], Step [96/96], Loss: 0.4053\n",
      "Epoch [29/50], Step [96/96], Loss: 0.3781\n",
      "Epoch [30/50], Step [96/96], Loss: 0.1396\n",
      "Epoch [31/50], Step [96/96], Loss: 0.2816\n",
      "Epoch [32/50], Step [96/96], Loss: 0.0666\n",
      "Epoch [33/50], Step [96/96], Loss: 0.0541\n",
      "Epoch [34/50], Step [96/96], Loss: 0.3320\n",
      "Epoch [35/50], Step [96/96], Loss: 0.7446\n",
      "Epoch [36/50], Step [96/96], Loss: 0.1940\n",
      "Epoch [37/50], Step [96/96], Loss: 0.6932\n",
      "Epoch [38/50], Step [96/96], Loss: 0.0450\n",
      "Epoch [39/50], Step [96/96], Loss: 0.0440\n",
      "Epoch [40/50], Step [96/96], Loss: 0.1883\n",
      "Epoch [41/50], Step [96/96], Loss: 0.2091\n",
      "Epoch [42/50], Step [96/96], Loss: 0.1653\n",
      "Epoch [43/50], Step [96/96], Loss: 0.0650\n",
      "Epoch [44/50], Step [96/96], Loss: 0.1603\n",
      "Epoch [45/50], Step [96/96], Loss: 0.0811\n",
      "Epoch [46/50], Step [96/96], Loss: 0.5913\n",
      "Epoch [47/50], Step [96/96], Loss: 0.1185\n",
      "Epoch [48/50], Step [96/96], Loss: 0.0881\n",
      "Epoch [49/50], Step [96/96], Loss: 0.1673\n",
      "Epoch [50/50], Step [96/96], Loss: 0.2205\n"
     ]
    }
   ],
   "source": [
    "entrainement(dataloader_train_spect, input_size_spect, model_spect, optimizer_spect)"
   ]
  },
  {
   "cell_type": "markdown",
   "metadata": {},
   "source": [
    "## Test du modèle "
   ]
  },
  {
   "cell_type": "markdown",
   "metadata": {},
   "source": [
    "On créer une fonction qui nous permet de tester nos réseaux pour les différents types de données que nous avons"
   ]
  },
  {
   "cell_type": "code",
   "execution_count": 31,
   "metadata": {},
   "outputs": [],
   "source": [
    "def test(dataset, model, input_size, data_type):\n",
    "    with torch.no_grad():\n",
    "        n_correct = 0\n",
    "        n_data = 0\n",
    "    \n",
    "        for images, labels in dataset:\n",
    "            images = images.float()\n",
    "            images = images.reshape(-1, input_size).to(device)\n",
    "            labels = labels.to(device)\n",
    "            outputs = model(images)\n",
    "            probabilities = torch.softmax(outputs, dim=1)\n",
    "\n",
    "\n",
    "            # Conversion des probabilités en prédictions binaires (0 ou 1)\n",
    "            predictions = torch.argmax(probabilities)\n",
    "        \n",
    "    \n",
    "            # Comparaison des prédictions avec les labels pour calculer la précision\n",
    "            n_correct += (predictions == labels).sum().item()\n",
    "            n_data += labels.size(0)\n",
    "        acc = 100*  n_correct / n_data\n",
    "        \n",
    "        print(f'Précision du réseau pour la prédiction du chiffre prononcé avec approche', data_type, ':', acc, '%')"
   ]
  },
  {
   "cell_type": "markdown",
   "metadata": {},
   "source": [
    "A présent on test nos modèles et on calcule leurs précisions pour la classification de nos données."
   ]
  },
  {
   "cell_type": "code",
   "execution_count": 32,
   "metadata": {},
   "outputs": [
    {
     "name": "stdout",
     "output_type": "stream",
     "text": [
      "Performance des réseaux pour nos différentes approches :\n",
      "Précision du réseau pour la prédiction du chiffre prononcé avec approche audio : 23.0 %\n",
      "Précision du réseau pour la prédiction du chiffre prononcé avec approche mfcc : 89.83333333333333 %\n",
      "Précision du réseau pour la prédiction du chiffre prononcé avec approche spectrogramme : 88.66666666666667 %\n"
     ]
    }
   ],
   "source": [
    "print('Performance des réseaux pour nos différentes approches :')\n",
    "test(dataloader_test_audio, model_audio, input_size_audio, \"audio\")\n",
    "test(dataloader_test_mfcc, model_mfcc, input_size_mfcc, \"mfcc\")\n",
    "test(dataloader_test_spect, model_spect, input_size_spect, \"spectrogramme\")"
   ]
  },
  {
   "cell_type": "markdown",
   "metadata": {},
   "source": [
    "## Conclusion\n",
    "\n",
    "Nous avons tester différentes approches pour la classification de signaux audios.\n",
    "\n",
    "##### Vecteurs audios \n",
    "\n",
    "Nous obtenons une précision de 20.1% en utilisant les vecteurs audios. On en conclu qu'il n'y a aucune généralisation pour cette approche. En effet nous avons 10 classes donc pour un réseau aléatoire on obtiendrait envion 10%. L'approche des vecteurs audio n'est donc pas fonctionnelle pour la classification de signaux audios.\n",
    "\n",
    "##### Coefficients MFCC\n",
    "\n",
    "Nous obtenons une précision de 89.83% en utilisant les coefficient MFCC. Ceci est un taux de précision très intérressant qui traduit une bonne généralisation sur l'ensemble de test de notre dataset. De plus les vecteur utilisés pour cette approche sont de petite taille (20) ainsi l'entrainement est très rapide pour 50 epochs. Nous pourrions aisément essayer d'entrainer sur plus d'epochs notre réseau pour essayer d'atteindre une précision encore meilleure. \n",
    "\n",
    "##### Spectrogrammes \n",
    "\n",
    "Nous obtenons de bons résultats avec cette approche avec un taux de 88.6%. Cela est un très bon taux et traduit une très bonne généralisation de notre modèle sur notre ensemble de test. Pour cette approche l'entrainement à cependant nécessité plus de ressources et donc plus de temps car nos données d'entrée sont des vecteurs de taille 64x64x4. Aussi cette approche revient à de la computer vision puisqu'on utilise l'image de nos spectrogrammes. Ainsi on peut penser qu'en utilisant un réseau de convolution on pourrait obtenir de meilleurs résultats.\n"
   ]
  }
 ],
 "metadata": {
  "kernelspec": {
   "display_name": "venv_TP3_ift780",
   "language": "python",
   "name": "python3"
  },
  "language_info": {
   "codemirror_mode": {
    "name": "ipython",
    "version": 3
   },
   "file_extension": ".py",
   "mimetype": "text/x-python",
   "name": "python",
   "nbconvert_exporter": "python",
   "pygments_lexer": "ipython3",
   "version": "3.9.13"
  }
 },
 "nbformat": 4,
 "nbformat_minor": 2
}
